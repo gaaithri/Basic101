{
 "cells": [
  {
   "cell_type": "code",
   "execution_count": null,
   "metadata": {},
   "outputs": [],
   "source": [
    "# variables "
   ]
  },
  {
   "cell_type": "code",
   "execution_count": null,
   "metadata": {},
   "outputs": [],
   "source": [
    "apple = 10 \n",
    "banana = 20 \n",
    "grapes = 30 "
   ]
  },
  {
   "cell_type": "code",
   "execution_count": null,
   "metadata": {},
   "outputs": [
    {
     "data": {
      "text/plain": [
       "30"
      ]
     },
     "execution_count": 2,
     "metadata": {},
     "output_type": "execute_result"
    }
   ],
   "source": [
    "apple + banana"
   ]
  },
  {
   "cell_type": "code",
   "execution_count": null,
   "metadata": {},
   "outputs": [],
   "source": [
    "grapes = 30 "
   ]
  },
  {
   "cell_type": "markdown",
   "metadata": {},
   "source": [
    "2 kgs of apple + 3 kgs grapes + 1 kg banana "
   ]
  },
  {
   "cell_type": "code",
   "execution_count": null,
   "metadata": {},
   "outputs": [],
   "source": [
    "\"The total cost of fruit = ? \" "
   ]
  },
  {
   "cell_type": "code",
   "execution_count": null,
   "metadata": {},
   "outputs": [
    {
     "data": {
      "text/plain": [
       "'Namika'"
      ]
     },
     "execution_count": 2,
     "metadata": {},
     "output_type": "execute_result"
    }
   ],
   "source": [
    "input(\"what is your name?\")"
   ]
  },
  {
   "cell_type": "code",
   "execution_count": null,
   "metadata": {},
   "outputs": [],
   "source": [
    "res = input(\"what is your name \")"
   ]
  },
  {
   "cell_type": "code",
   "execution_count": null,
   "metadata": {},
   "outputs": [
    {
     "name": "stdout",
     "output_type": "stream",
     "text": [
      "Nimish\n"
     ]
    }
   ],
   "source": [
    "print(res)"
   ]
  },
  {
   "cell_type": "code",
   "execution_count": null,
   "metadata": {},
   "outputs": [],
   "source": [
    "favcolur =  input (\" what is your favourite colour\")"
   ]
  },
  {
   "cell_type": "code",
   "execution_count": null,
   "metadata": {},
   "outputs": [],
   "source": [
    "food = input ( \" Tell me your favourite food \")"
   ]
  },
  {
   "cell_type": "markdown",
   "metadata": {},
   "source": [
    "My Name is Nimish , My fav colour is <colour> and I love <foodname>"
   ]
  },
  {
   "cell_type": "code",
   "execution_count": null,
   "metadata": {},
   "outputs": [
    {
     "name": "stdout",
     "output_type": "stream",
     "text": [
      "My name is Nimish\n",
      " My Fav Colour Pink I lovePizza\n"
     ]
    }
   ],
   "source": [
    "print(\"My name is \" + res +\"\\n\"+ \" \" + \"My Fav Colour \" + favcolur  + \" I love\" + food)"
   ]
  },
  {
   "cell_type": "code",
   "execution_count": null,
   "metadata": {},
   "outputs": [
    {
     "ename": "SyntaxError",
     "evalue": "invalid syntax (3893406505.py, line 1)",
     "output_type": "error",
     "traceback": [
      "\u001b[0;36m  Cell \u001b[0;32mIn[55], line 1\u001b[0;36m\u001b[0m\n\u001b[0;31m    Generate Club Names\u001b[0m\n\u001b[0m             ^\u001b[0m\n\u001b[0;31mSyntaxError\u001b[0m\u001b[0;31m:\u001b[0m invalid syntax\n"
     ]
    }
   ],
   "source": [
    "\n",
    "Generate Club Names \n",
    "\n",
    "you will ask sports \n",
    "name of best friend \n",
    "name the pet \n",
    "\n",
    "Tennis \n",
    "Sanjay \n",
    "Sathu \n",
    "\n",
    "You can name your  Sports Club  = SanjaySathu Tennis Club \n",
    "SathuSanjay TEnnis Club \n",
    "SanSat Tennis Club .\n"
   ]
  },
  {
   "cell_type": "markdown",
   "metadata": {},
   "source": [
    "marks = [ 45, 44, 36 ,35, 60]"
   ]
  },
  {
   "cell_type": "code",
   "execution_count": null,
   "metadata": {},
   "outputs": [],
   "source": [
    "marks = [ 45, 44, 36 ,35, 60]"
   ]
  },
  {
   "cell_type": "markdown",
   "metadata": {},
   "source": [
    "elements of list -> Marks \n",
    "len( marks )"
   ]
  },
  {
   "cell_type": "code",
   "execution_count": null,
   "metadata": {},
   "outputs": [],
   "source": [
    "p = len(marks )"
   ]
  },
  {
   "cell_type": "code",
   "execution_count": null,
   "metadata": {},
   "outputs": [
    {
     "name": "stdout",
     "output_type": "stream",
     "text": [
      "5\n"
     ]
    }
   ],
   "source": [
    "print(p)"
   ]
  },
  {
   "cell_type": "code",
   "execution_count": null,
   "metadata": {},
   "outputs": [
    {
     "data": {
      "text/plain": [
       "45"
      ]
     },
     "execution_count": 7,
     "metadata": {},
     "output_type": "execute_result"
    }
   ],
   "source": [
    "marks [0]"
   ]
  },
  {
   "cell_type": "code",
   "execution_count": null,
   "metadata": {},
   "outputs": [
    {
     "data": {
      "text/plain": [
       "44"
      ]
     },
     "execution_count": 8,
     "metadata": {},
     "output_type": "execute_result"
    }
   ],
   "source": [
    "marks [1]"
   ]
  },
  {
   "cell_type": "markdown",
   "metadata": {},
   "source": [
    "number of students in a grade of school across 6 section ."
   ]
  },
  {
   "cell_type": "markdown",
   "metadata": {},
   "source": [
    "Make a list with the count of students in each grade . "
   ]
  },
  {
   "cell_type": "markdown",
   "metadata": {},
   "source": [
    "Grade A   = 50 , Grade b = 35 , Grade C = 40 , GRade D = 56 , Grade E = 35 , Grade F = 46"
   ]
  },
  {
   "cell_type": "markdown",
   "metadata": {},
   "source": [
    "Print the Numbers of GRade B , grade E . "
   ]
  },
  {
   "cell_type": "code",
   "execution_count": null,
   "metadata": {},
   "outputs": [],
   "source": []
  },
  {
   "cell_type": "code",
   "execution_count": null,
   "metadata": {},
   "outputs": [],
   "source": []
  },
  {
   "cell_type": "code",
   "execution_count": null,
   "metadata": {},
   "outputs": [],
   "source": [
    "# Creating a List "
   ]
  },
  {
   "cell_type": "code",
   "execution_count": null,
   "metadata": {},
   "outputs": [],
   "source": [
    "grade = [50, 35, 40, 56, 35, 46]"
   ]
  },
  {
   "cell_type": "markdown",
   "metadata": {},
   "source": [
    "# list / array "
   ]
  },
  {
   "cell_type": "markdown",
   "metadata": {},
   "source": [
    "### Set of values enclosed between Sqaure brackets "
   ]
  },
  {
   "cell_type": "markdown",
   "metadata": {},
   "source": [
    "accessing the elements of the list "
   ]
  },
  {
   "cell_type": "markdown",
   "metadata": {},
   "source": [
    "Print only the number of students in Grade B"
   ]
  },
  {
   "cell_type": "markdown",
   "metadata": {},
   "source": []
  },
  {
   "cell_type": "markdown",
   "metadata": {},
   "source": [
    " ### The Number of Students in Grade B Are 35 "
   ]
  },
  {
   "cell_type": "markdown",
   "metadata": {},
   "source": [
    "The total Number of Students in Grade A, B and C\n",
    "Output Format :  \n",
    " The Total Number of Students in Grade A, B ,C are : "
   ]
  },
  {
   "cell_type": "code",
   "execution_count": null,
   "metadata": {},
   "outputs": [
    {
     "name": "stdout",
     "output_type": "stream",
     "text": [
      "The Number of Students in Grade B are 35\n"
     ]
    }
   ],
   "source": [
    "print ( \"The Number of Students in Grade B are\" , grade[1])"
   ]
  },
  {
   "cell_type": "code",
   "execution_count": null,
   "metadata": {},
   "outputs": [
    {
     "name": "stdout",
     "output_type": "stream",
     "text": [
      "Number of sections in Happy Grade 15\n"
     ]
    }
   ],
   "source": [
    "count = len(happyGrade)\n",
    "print(\"Number of sections in Happy Grade\", count)"
   ]
  },
  {
   "cell_type": "code",
   "execution_count": null,
   "metadata": {},
   "outputs": [],
   "source": [
    "happyGrade_before_newAdmission = [45,65,46,53,60,78,51,32,12,18,30,46,45,33,89]"
   ]
  },
  {
   "cell_type": "code",
   "execution_count": null,
   "metadata": {},
   "outputs": [],
   "source": []
  },
  {
   "cell_type": "markdown",
   "metadata": {},
   "source": [
    " ### FOR Loops"
   ]
  },
  {
   "cell_type": "code",
   "execution_count": null,
   "metadata": {},
   "outputs": [
    {
     "name": "stdout",
     "output_type": "stream",
     "text": [
      "before Admission [45, 65, 46, 53, 60, 78, 51, 32, 12, 18, 30, 46, 45, 33, 89]\n",
      "After Admission  [48, 68, 49, 56, 63, 81, 54, 35, 15, 21, 33, 49, 48, 36, 92]\n"
     ]
    }
   ],
   "source": [
    "index = -1\n",
    "happyGrade_after_newAdmission = []\n",
    "for i in happyGrade_before_newAdmission: \n",
    "    index = index + 1\n",
    "    happyGrade_after_newAdmission.append(i+3)\n",
    "\n",
    "print(\"before Admission\",happyGrade_before_newAdmission)\n",
    "print(\"After Admission \", happyGrade_after_newAdmission)"
   ]
  },
  {
   "cell_type": "markdown",
   "metadata": {},
   "source": []
  },
  {
   "cell_type": "code",
   "execution_count": null,
   "metadata": {},
   "outputs": [
    {
     "name": "stdout",
     "output_type": "stream",
     "text": [
      "45  Now adding count  2\n",
      "110  Now adding count  5\n",
      "156  Now adding count  8\n",
      "209  Now adding count  11\n",
      "269  Now adding count  14\n",
      "347  Now adding count  17\n",
      "398  Now adding count  20\n",
      "430  Now adding count  23\n",
      "442  Now adding count  26\n",
      "460  Now adding count  29\n",
      "490  Now adding count  32\n",
      "536  Now adding count  35\n",
      "581  Now adding count  38\n",
      "614  Now adding count  41\n",
      "706  Now adding count  44\n",
      "706\n"
     ]
    }
   ],
   "source": [
    "function Count \n",
    "\n",
    "count = 0 \n",
    "index = -1\n",
    "for i in happyGrade:\n",
    "    index = index + 1\n",
    "    count = count + i\n",
    "    print(count, \" Now adding count for \", index)\n",
    "print(count)"
   ]
  },
  {
   "cell_type": "code",
   "execution_count": 52,
   "metadata": {},
   "outputs": [],
   "source": [
    "beGood =  [ 87, 90, 23, 45, 78 , 109, 23, 45, 78, 90, 96, 97, 100, 78, 150, 98,100,125, 150, 130,150]"
   ]
  },
  {
   "cell_type": "code",
   "execution_count": 53,
   "metadata": {},
   "outputs": [],
   "source": [
    "beGood.append( 45)"
   ]
  },
  {
   "cell_type": "code",
   "execution_count": null,
   "metadata": {},
   "outputs": [
    {
     "name": "stdout",
     "output_type": "stream",
     "text": [
      "[45, 150, 130, 150, 125, 100, 98, 150, 78, 100, 97, 96, 90, 78, 45, 23, 109, 78, 45, 23, 90, 87]\n"
     ]
    },
    {
     "data": {
      "text/plain": [
       "[87,\n",
       " 90,\n",
       " 23,\n",
       " 45,\n",
       " 78,\n",
       " 109,\n",
       " 23,\n",
       " 45,\n",
       " 78,\n",
       " 90,\n",
       " 96,\n",
       " 97,\n",
       " 100,\n",
       " 78,\n",
       " 150,\n",
       " 98,\n",
       " 100,\n",
       " 125,\n",
       " 150,\n",
       " 130,\n",
       " 150,\n",
       " 45]"
      ]
     },
     "execution_count": 59,
     "metadata": {},
     "output_type": "execute_result"
    }
   ],
   "source": [
    "print(beGood)\n",
    "count = len(beGood)\n",
    "beGood.reverse()\n"
   ]
  },
  {
   "cell_type": "code",
   "execution_count": null,
   "metadata": {},
   "outputs": [],
   "source": []
  },
  {
   "cell_type": "code",
   "execution_count": null,
   "metadata": {},
   "outputs": [],
   "source": [
    " "
   ]
  },
  {
   "cell_type": "code",
   "execution_count": null,
   "metadata": {},
   "outputs": [],
   "source": []
  },
  {
   "cell_type": "code",
   "execution_count": null,
   "metadata": {},
   "outputs": [],
   "source": [
    "print(\" The total marks \" , )"
   ]
  },
  {
   "cell_type": "code",
   "execution_count": null,
   "metadata": {},
   "outputs": [
    {
     "data": {
      "text/plain": [
       "21"
      ]
     },
     "execution_count": 32,
     "metadata": {},
     "output_type": "execute_result"
    }
   ],
   "source": [
    "len(beGood)"
   ]
  },
  {
   "cell_type": "markdown",
   "metadata": {},
   "source": [
    "The total Marks Scored By 21 students of beGood school is ___?___"
   ]
  },
  {
   "cell_type": "markdown",
   "metadata": {},
   "source": [
    "1. Add one more Student mark  in beGood School of 147\n",
    "2. Add grace marks of 5 to all students "
   ]
  },
  {
   "cell_type": "markdown",
   "metadata": {},
   "source": []
  },
  {
   "cell_type": "markdown",
   "metadata": {},
   "source": []
  },
  {
   "cell_type": "markdown",
   "metadata": {},
   "source": [
    "# fruits - List of Strings "
   ]
  },
  {
   "cell_type": "code",
   "execution_count": null,
   "metadata": {},
   "outputs": [],
   "source": [
    "fruits = [ \"apples\", \"mangoes\", \"oranges\"]"
   ]
  },
  {
   "cell_type": "code",
   "execution_count": null,
   "metadata": {},
   "outputs": [
    {
     "name": "stdout",
     "output_type": "stream",
     "text": [
      "apples\n"
     ]
    }
   ],
   "source": [
    "# INDEX - 0 based positions in the list\n",
    "print(fruits[0])"
   ]
  },
  {
   "cell_type": "code",
   "execution_count": null,
   "metadata": {},
   "outputs": [
    {
     "name": "stdout",
     "output_type": "stream",
     "text": [
      "['apples', 'mangoes', 'oranges']\n"
     ]
    }
   ],
   "source": [
    "print(fruits)\n",
    "fruits[1] = \"pear\""
   ]
  },
  {
   "cell_type": "code",
   "execution_count": null,
   "metadata": {},
   "outputs": [
    {
     "name": "stdout",
     "output_type": "stream",
     "text": [
      "['apples', 'pear', 'oranges']\n"
     ]
    }
   ],
   "source": [
    "print(fruits)"
   ]
  },
  {
   "cell_type": "code",
   "execution_count": null,
   "metadata": {},
   "outputs": [
    {
     "data": {
      "text/plain": [
       "['apples', 'mangoes', 'mangoes', 'pear', 'oranges']"
      ]
     },
     "execution_count": 7,
     "metadata": {},
     "output_type": "execute_result"
    }
   ],
   "source": [
    "# List are mutable \n",
    "#fruits [\"apples, mangoes, pear, oranges\"]\n",
    "fruits.insert(1,\"mangoes\")\n",
    "fruits"
   ]
  },
  {
   "cell_type": "code",
   "execution_count": null,
   "metadata": {},
   "outputs": [
    {
     "ename": "ValueError",
     "evalue": "list.remove(x): x not in list",
     "output_type": "error",
     "traceback": [
      "\u001b[0;31m---------------------------------------------------------------------------\u001b[0m",
      "\u001b[0;31mValueError\u001b[0m                                Traceback (most recent call last)",
      "Cell \u001b[0;32mIn[13], line 1\u001b[0m\n\u001b[0;32m----> 1\u001b[0m \u001b[43mfruits\u001b[49m\u001b[38;5;241;43m.\u001b[39;49m\u001b[43mremove\u001b[49m\u001b[43m(\u001b[49m\u001b[38;5;124;43m'\u001b[39;49m\u001b[38;5;124;43mmangoes\u001b[39;49m\u001b[38;5;124;43m'\u001b[39;49m\u001b[43m)\u001b[49m\n",
      "\u001b[0;31mValueError\u001b[0m: list.remove(x): x not in list"
     ]
    }
   ],
   "source": [
    "fruits.remove('mangoes')"
   ]
  },
  {
   "cell_type": "markdown",
   "metadata": {},
   "source": []
  },
  {
   "cell_type": "code",
   "execution_count": null,
   "metadata": {},
   "outputs": [
    {
     "data": {
      "text/plain": [
       "['apples', 'pear', 'oranges']"
      ]
     },
     "execution_count": 14,
     "metadata": {},
     "output_type": "execute_result"
    }
   ],
   "source": [
    "fruits"
   ]
  },
  {
   "cell_type": "code",
   "execution_count": null,
   "metadata": {},
   "outputs": [],
   "source": [
    "# empty list  - has no elements \n",
    "fruitSalad= [] "
   ]
  },
  {
   "cell_type": "code",
   "execution_count": null,
   "metadata": {},
   "outputs": [],
   "source": [
    "fruitSalad = fruits.copy() "
   ]
  },
  {
   "cell_type": "code",
   "execution_count": null,
   "metadata": {},
   "outputs": [
    {
     "data": {
      "text/plain": [
       "['apples', 'pear', 'oranges']"
      ]
     },
     "execution_count": 19,
     "metadata": {},
     "output_type": "execute_result"
    }
   ],
   "source": [
    "fruitSalad"
   ]
  },
  {
   "cell_type": "code",
   "execution_count": null,
   "metadata": {},
   "outputs": [],
   "source": [
    "exoticFruits = [\"cashew\", \"pista\"]"
   ]
  },
  {
   "cell_type": "code",
   "execution_count": null,
   "metadata": {},
   "outputs": [],
   "source": [
    "fruitSalad.extend(exoticFruits)"
   ]
  },
  {
   "cell_type": "code",
   "execution_count": null,
   "metadata": {},
   "outputs": [
    {
     "data": {
      "text/plain": [
       "['apples', 'pear', 'oranges', 'cashew', 'pista']"
      ]
     },
     "execution_count": 22,
     "metadata": {},
     "output_type": "execute_result"
    }
   ],
   "source": [
    "fruitSalad"
   ]
  },
  {
   "cell_type": "markdown",
   "metadata": {
    "vscode": {
     "languageId": "bat"
    }
   },
   "source": [
    "Assignment1 : FruitBasket  = [\"cashew\", \"pista\",\"apples\", \"pear\", \"oranges\"]"
   ]
  },
  {
   "cell_type": "code",
   "execution_count": null,
   "metadata": {},
   "outputs": [],
   "source": [
    "Loops : if-else"
   ]
  },
  {
   "cell_type": "code",
   "execution_count": null,
   "metadata": {},
   "outputs": [],
   "source": [
    "#Wonderla #DisneyWorld #Funworld  #CubbonPark "
   ]
  },
  {
   "cell_type": "markdown",
   "metadata": {},
   "source": [
    "RIDES - 1. Age Limit  2.Height Limit "
   ]
  },
  {
   "cell_type": "markdown",
   "metadata": {},
   "source": [
    "Problem Statement \n",
    "Rita age = 9 yo \n",
    "Raju age = 12 y0\n",
    "Ram age = 14 yo\n",
    "Rishabh = 18 yo \n",
    "nita = 6 yo \n",
    "\n",
    "Bumpy Roller Coaster - you have to be above 10 years of age  : 3 yes 1 No \n",
    "\n",
    "Skydrop : you have to be above 15 years\n",
    "1 yes, 3 no\n",
    "\n",
    "Ferris wheel : age above 7 years \n",
    "\n",
    "4 yes \n",
    "\n",
    "trainRide:  all \n",
    "\n",
    "if i have a game age 7 to 14 :  Pool games "
   ]
  },
  {
   "cell_type": "code",
   "execution_count": 50,
   "metadata": {},
   "outputs": [
    {
     "name": "stdout",
     "output_type": "stream",
     "text": [
      "['train', 'Park Out'] You can play these\n"
     ]
    }
   ],
   "source": [
    "userage = int(input(\"Enter your age\"))\n",
    "age = userage\n",
    "games = [\"train\", 'Fw','Brc', 'SD','Pg']\n",
    "gamesAllowed = [\"train\"]\n",
    "if age < 7: \n",
    "    gamesAllowed.append(\"train\")\n",
    "elif age > 10 and age < 15: \n",
    "    gamesAllowed.extend([ \"Ferris Wheel\",\"BRC\" , \"PG\"])\n",
    "elif  age > 7 and age < 14: \n",
    "    gamesAllowed.extend([ \"Ferris Wheel\", \"PG\"])\n",
    "elif age > 15 and age < 50:\n",
    "    gamesAllowed.extend([ \"Ferris Wheel\",\"BRC\" ,\"SD\"])\n",
    "else: \n",
    "    gamesAllowed.append(\"Park Out\")\n",
    "\n",
    "print(gamesAllowed,\"You can play these\")\n"
   ]
  },
  {
   "cell_type": "markdown",
   "metadata": {},
   "source": [
    "flowchart :\n",
    "\n",
    " License : LL - 16   DL >18 \n",
    " LMV >16 HMV >18"
   ]
  },
  {
   "cell_type": "code",
   "execution_count": null,
   "metadata": {},
   "outputs": [],
   "source": []
  },
  {
   "cell_type": "code",
   "execution_count": null,
   "metadata": {},
   "outputs": [],
   "source": []
  },
  {
   "cell_type": "markdown",
   "metadata": {},
   "source": [
    "Function :"
   ]
  },
  {
   "cell_type": "markdown",
   "metadata": {},
   "source": [
    "Cbse Class 8 9 10 \n",
    "subjects \n",
    "Science Class 8 \n",
    " chapters : Module \n",
    "  Function- PHy - Force : Intro - newton - details - Phyic\n",
    "\n",
    "  Function -BIO - Tissues - animals and human "
   ]
  },
  {
   "cell_type": "code",
   "execution_count": null,
   "metadata": {},
   "outputs": [],
   "source": [
    "Libraries - similar function - prewritten Python - \n",
    "libraries related to different task "
   ]
  },
  {
   "cell_type": "markdown",
   "metadata": {},
   "source": [
    "Operations  of List : \n",
    "\n",
    "1. reverse \n",
    "2. append \n",
    "3. extend - extension of list with another list \n",
    "4. "
   ]
  },
  {
   "cell_type": "code",
   "execution_count": 60,
   "metadata": {},
   "outputs": [],
   "source": [
    "testMarks = [ 50, 90, 30,69]"
   ]
  },
  {
   "cell_type": "markdown",
   "metadata": {},
   "source": [
    "testMarks \n",
    "- range function "
   ]
  },
  {
   "cell_type": "markdown",
   "metadata": {},
   "source": [
    "range ( 1, 10 )\n",
    "\n",
    "for i in range ( 1, 10 ): \n",
    "    print(i)"
   ]
  },
  {
   "cell_type": "markdown",
   "metadata": {},
   "source": [
    "Print first 20 numbers "
   ]
  },
  {
   "cell_type": "code",
   "execution_count": null,
   "metadata": {},
   "outputs": [
    {
     "name": "stdout",
     "output_type": "stream",
     "text": [
      "1\n",
      "2\n",
      "3\n",
      "4\n",
      "5\n",
      "6\n",
      "7\n",
      "8\n",
      "9\n",
      "10\n",
      "11\n",
      "12\n",
      "13\n",
      "14\n",
      "15\n",
      "16\n",
      "17\n",
      "18\n",
      "19\n",
      "20\n"
     ]
    }
   ],
   "source": [
    "for i in range ( 1, 21, 1): \n",
    "    print(i)"
   ]
  },
  {
   "cell_type": "code",
   "execution_count": 70,
   "metadata": {},
   "outputs": [
    {
     "name": "stdout",
     "output_type": "stream",
     "text": [
      "0\n",
      "2\n",
      "4\n",
      "6\n",
      "8\n",
      "10\n",
      "12\n",
      "14\n",
      "16\n",
      "18\n",
      "20\n"
     ]
    }
   ],
   "source": [
    "for i in range ( 0, 21 , 2): \n",
    "    print(i)"
   ]
  },
  {
   "cell_type": "code",
   "execution_count": 71,
   "metadata": {},
   "outputs": [
    {
     "name": "stdout",
     "output_type": "stream",
     "text": [
      "0\n",
      "3\n",
      "6\n",
      "9\n",
      "12\n",
      "15\n",
      "18\n"
     ]
    }
   ],
   "source": [
    "for i in range ( 0, 21 , 3): \n",
    "    print(i)"
   ]
  },
  {
   "cell_type": "markdown",
   "metadata": {},
   "source": [
    "1. print multiples of 6 using range: \n"
   ]
  },
  {
   "cell_type": "code",
   "execution_count": 72,
   "metadata": {},
   "outputs": [],
   "source": [
    "testMarks = [ 50, 90, 30,69]"
   ]
  },
  {
   "cell_type": "markdown",
   "metadata": {},
   "source": [
    "numbers in python => int "
   ]
  },
  {
   "cell_type": "code",
   "execution_count": 73,
   "metadata": {},
   "outputs": [
    {
     "name": "stdout",
     "output_type": "stream",
     "text": [
      "[90, 30]\n"
     ]
    }
   ],
   "source": [
    "print ( testMarks[1:3])"
   ]
  },
  {
   "cell_type": "code",
   "execution_count": 80,
   "metadata": {},
   "outputs": [
    {
     "name": "stdout",
     "output_type": "stream",
     "text": [
      "[50, 90, 30]\n",
      "0\n",
      "Value  50\n",
      "1\n",
      "Value  90\n",
      "2\n",
      "Value  30\n"
     ]
    }
   ],
   "source": [
    "print (testMarks[0: 3])\n",
    "for i in range(0,3): \n",
    "    print (i) \n",
    "    \n",
    "    print(\"Value \", testMarks[i])"
   ]
  },
  {
   "cell_type": "code",
   "execution_count": 81,
   "metadata": {},
   "outputs": [],
   "source": [
    "beGood = [45, 150, 130, 150, 125, 100, 98, 150, 78, 100, 97, 96, 90, 78, 45, 23, 109, 78, 45, 23, 90, 87]\n"
   ]
  },
  {
   "cell_type": "code",
   "execution_count": 89,
   "metadata": {},
   "outputs": [
    {
     "name": "stdout",
     "output_type": "stream",
     "text": [
      "150\n",
      "130\n",
      "150\n",
      "125\n",
      "100\n",
      "########\n",
      "150\n",
      "130\n",
      "150\n",
      "125\n",
      "100\n"
     ]
    }
   ],
   "source": [
    "for i in range(1, 6): \n",
    "    print(beGood[i])\n",
    "print(\"########\")\n",
    "for k in beGood[1:6]:\n",
    "     print(k)\n",
    "\n"
   ]
  },
  {
   "cell_type": "code",
   "execution_count": null,
   "metadata": {},
   "outputs": [
    {
     "name": "stdout",
     "output_type": "stream",
     "text": [
      "98\n",
      "150\n",
      "78\n",
      "100\n",
      "97\n"
     ]
    }
   ],
   "source": [
    "# Class f - 6 class , \n",
    "for i in range (6,11):\n",
    "    print(beGood[i])\n",
    "\n"
   ]
  },
  {
   "cell_type": "code",
   "execution_count": 91,
   "metadata": {},
   "outputs": [
    {
     "name": "stdout",
     "output_type": "stream",
     "text": [
      "[50, 90, 30, 69]\n"
     ]
    }
   ],
   "source": [
    "# Last five classes : \n",
    "print(testMarks)"
   ]
  },
  {
   "cell_type": "markdown",
   "metadata": {},
   "source": [
    "-1 + -1 = -2"
   ]
  },
  {
   "cell_type": "code",
   "execution_count": 96,
   "metadata": {},
   "outputs": [
    {
     "name": "stdout",
     "output_type": "stream",
     "text": [
      "[30, 90, 50]\n"
     ]
    }
   ],
   "source": [
    "print(testMarks[-2::-1])"
   ]
  },
  {
   "cell_type": "code",
   "execution_count": 98,
   "metadata": {},
   "outputs": [
    {
     "name": "stdout",
     "output_type": "stream",
     "text": [
      "[45, 150, 130, 150, 125, 100, 98, 150, 78, 100, 97, 96, 90, 78, 45, 23, 109, 78, 45, 23, 90, 87]\n"
     ]
    }
   ],
   "source": [
    "print(beGood)"
   ]
  },
  {
   "cell_type": "code",
   "execution_count": 99,
   "metadata": {},
   "outputs": [
    {
     "name": "stdout",
     "output_type": "stream",
     "text": [
      "[87, 90, 23, 45, 78, 109, 23, 45, 78, 90, 96, 97, 100, 78, 150, 98, 100, 125, 150, 130, 150]\n"
     ]
    }
   ],
   "source": [
    "print(beGood[-1:0:-1 ])"
   ]
  },
  {
   "cell_type": "code",
   "execution_count": 102,
   "metadata": {},
   "outputs": [
    {
     "name": "stdout",
     "output_type": "stream",
     "text": [
      "[87, 90, 23, 45, 78, 109, 23, 45, 78, 90, 96, 97]\n"
     ]
    }
   ],
   "source": [
    "print(beGood[-1:9: -1])"
   ]
  },
  {
   "cell_type": "code",
   "execution_count": 115,
   "metadata": {},
   "outputs": [
    {
     "name": "stdout",
     "output_type": "stream",
     "text": [
      "[90, 50, 69, 30]\n"
     ]
    },
    {
     "data": {
      "text/plain": [
       "30"
      ]
     },
     "execution_count": 115,
     "metadata": {},
     "output_type": "execute_result"
    }
   ],
   "source": [
    "import random\n",
    "random.shuffle(testMarks)\n",
    "print(testMarks)\n",
    "\n",
    "random.choice(testMarks)"
   ]
  },
  {
   "cell_type": "code",
   "execution_count": 116,
   "metadata": {},
   "outputs": [
    {
     "data": {
      "text/plain": [
       "[23,\n",
       " 23,\n",
       " 45,\n",
       " 45,\n",
       " 45,\n",
       " 78,\n",
       " 78,\n",
       " 78,\n",
       " 87,\n",
       " 90,\n",
       " 90,\n",
       " 96,\n",
       " 97,\n",
       " 98,\n",
       " 100,\n",
       " 100,\n",
       " 109,\n",
       " 125,\n",
       " 130,\n",
       " 150,\n",
       " 150,\n",
       " 150]"
      ]
     },
     "execution_count": 116,
     "metadata": {},
     "output_type": "execute_result"
    }
   ],
   "source": [
    "beGood.sort()\n",
    "beGood"
   ]
  },
  {
   "cell_type": "code",
   "execution_count": null,
   "metadata": {},
   "outputs": [],
   "source": [
    "House/flat  : \n",
    "- Rooms : purpose - take rest - Beds / studytable \n",
    "- Living Room- entertain - interact  \n",
    "- Kitchen - Food \n",
    "- Wash room - hygenie - watertaps "
   ]
  },
  {
   "cell_type": "code",
   "execution_count": null,
   "metadata": {},
   "outputs": [],
   "source": [
    "Function - purpose - building blocks \n",
    "functions - multiple module - Application \n",
    "\n",
    "Swiggy App / \n",
    "\n",
    "welcome amit \n",
    "welcome tony \n",
    "\n",
    "\n",
    "functions - a set of expressions or programme statement - \n",
    "\n",
    "\n"
   ]
  },
  {
   "cell_type": "code",
   "execution_count": 117,
   "metadata": {},
   "outputs": [
    {
     "name": "stdout",
     "output_type": "stream",
     "text": [
      " This is BeGood School Welcome Here \n"
     ]
    }
   ],
   "source": [
    "print ( \" This is BeGood School Welcome Here \")"
   ]
  },
  {
   "cell_type": "code",
   "execution_count": 122,
   "metadata": {},
   "outputs": [],
   "source": [
    "def greet():\n",
    "   print(\" hi \")\n",
    "   print ( \" bye\" )"
   ]
  },
  {
   "cell_type": "markdown",
   "metadata": {},
   "source": [
    "write a function which will print numbers 1 to 10 "
   ]
  },
  {
   "cell_type": "code",
   "execution_count": 118,
   "metadata": {},
   "outputs": [],
   "source": [
    "def sayHeelo():\n",
    "    print(\" Hi\")\n",
    "    print(\" Bonjour\")\n",
    "    \n"
   ]
  },
  {
   "cell_type": "code",
   "execution_count": 127,
   "metadata": {},
   "outputs": [],
   "source": [
    "sayHello= \" Today is Saturday \" "
   ]
  },
  {
   "cell_type": "code",
   "execution_count": 132,
   "metadata": {},
   "outputs": [
    {
     "name": "stdout",
     "output_type": "stream",
     "text": [
      " Hi\n",
      " Bonjour\n"
     ]
    }
   ],
   "source": [
    "sayHeelo()"
   ]
  },
  {
   "cell_type": "code",
   "execution_count": null,
   "metadata": {},
   "outputs": [],
   "source": [
    "for i in range(0,3): \n",
    "    print (i) \n",
    "    "
   ]
  },
  {
   "cell_type": "code",
   "execution_count": 119,
   "metadata": {},
   "outputs": [
    {
     "name": "stdout",
     "output_type": "stream",
     "text": [
      " Hi\n",
      " Bonjour\n"
     ]
    }
   ],
   "source": [
    "sayHeelo()"
   ]
  },
  {
   "cell_type": "code",
   "execution_count": 123,
   "metadata": {},
   "outputs": [
    {
     "name": "stdout",
     "output_type": "stream",
     "text": [
      " hi \n",
      " bye\n"
     ]
    }
   ],
   "source": [
    "greet()"
   ]
  },
  {
   "cell_type": "code",
   "execution_count": 125,
   "metadata": {},
   "outputs": [
    {
     "name": "stdout",
     "output_type": "stream",
     "text": [
      "Hello\n"
     ]
    }
   ],
   "source": [
    "print(\"Hello\")"
   ]
  },
  {
   "cell_type": "code",
   "execution_count": 126,
   "metadata": {},
   "outputs": [
    {
     "data": {
      "text/plain": [
       "5"
      ]
     },
     "execution_count": 126,
     "metadata": {},
     "output_type": "execute_result"
    }
   ],
   "source": [
    "len(\"books\")"
   ]
  },
  {
   "cell_type": "markdown",
   "metadata": {},
   "source": [
    "\n",
    "1. For Loops\n",
    "2.  if else \n",
    "3.  variables \n",
    "4. list - list operations ( basic)\n",
    "5. Input - taking user input using the keyword \"input\"\n",
    "6. Functions - builtin functions\n",
    "    1. Print functions \n",
    "    2. Range functions\n",
    "7.  User defined functions\n",
    "8. parametrs to function , functions with arguments \n",
    "9. random function \n",
    "10. while loop .\n",
    "\n",
    "\n",
    "19 Dec Assignment : \n",
    "1.Hurdle 1 of Reeborg.  \n",
    "2.Password regenerator. \n",
    "\n",
    "\n",
    " \n"
   ]
  },
  {
   "cell_type": "code",
   "execution_count": 17,
   "metadata": {},
   "outputs": [],
   "source": [
    "def sumofnum(): \n",
    "    print(\"hello sum of numbers \")\n",
    "    valA  = 100\n",
    "    valB = 204\n",
    "    total = valA + valB\n",
    "    print(\"total is \", total )"
   ]
  },
  {
   "cell_type": "code",
   "execution_count": 19,
   "metadata": {},
   "outputs": [],
   "source": [
    "def sumofnumP(valA, valB): \n",
    "    print(\"hello sum of numbers \")\n",
    "    total = valA + valB\n",
    "    print(\"total is \", total )"
   ]
  },
  {
   "cell_type": "code",
   "execution_count": 27,
   "metadata": {},
   "outputs": [],
   "source": [
    "def schoolStrength(val): \n",
    "    count = 0\n",
    "    for i in val: \n",
    "        count = i+ count \n",
    "    print(count, \"is the total school strength\")\n"
   ]
  },
  {
   "cell_type": "code",
   "execution_count": 25,
   "metadata": {},
   "outputs": [],
   "source": [
    "beGood = [45, 150, 130, 150, 125, 100, 98, 150, 78, 100, 97, 96, 90, 78, 45, 23, 109, 78, 45, 23, 90, 87]\n",
    "reslientEducation = [90, 150, 100, 150, 125, 50, 98, 450, 78, 100, 97, 96, 120]\n"
   ]
  },
  {
   "cell_type": "code",
   "execution_count": null,
   "metadata": {},
   "outputs": [],
   "source": []
  },
  {
   "cell_type": "code",
   "execution_count": 29,
   "metadata": {},
   "outputs": [
    {
     "name": "stdout",
     "output_type": "stream",
     "text": [
      "1987 is the total school strength\n",
      "1704 is the total school strength\n"
     ]
    }
   ],
   "source": [
    "schoolStrength(beGood)\n",
    "schoolStrength(reslientEducation)"
   ]
  },
  {
   "cell_type": "code",
   "execution_count": 21,
   "metadata": {},
   "outputs": [
    {
     "name": "stdout",
     "output_type": "stream",
     "text": [
      "hello sum of numbers \n",
      "total is  156\n"
     ]
    }
   ],
   "source": [
    "sumofnumP(56, 100)"
   ]
  },
  {
   "cell_type": "code",
   "execution_count": null,
   "metadata": {},
   "outputs": [],
   "source": []
  },
  {
   "cell_type": "code",
   "execution_count": null,
   "metadata": {},
   "outputs": [],
   "source": [
    "parameters of functions : values are passed in the function calls"
   ]
  },
  {
   "cell_type": "markdown",
   "metadata": {},
   "source": [
    "print sum of 100 , 204"
   ]
  },
  {
   "cell_type": "code",
   "execution_count": null,
   "metadata": {},
   "outputs": [
    {
     "name": "stdout",
     "output_type": "stream",
     "text": [
      "you want password of size 5 we will share shortly\n",
      "1 is the while loop count\n",
      "5\n",
      "bb1#$\n"
     ]
    }
   ],
   "source": [
    "# 1 .GEnerate password: print the generated password that matches the user requested \n",
    "#2 . order of characters within the password must be random \n",
    "import random\n",
    "import math\n",
    "# alphabet - a-z\n",
    "alpha = ['a','b','c', 'd', 'e', 'f']\n",
    "# num 1-9\n",
    "num = ['1','2','4','6']\n",
    "# all \n",
    "charp = ['$','%', '$', '#', '%']\n",
    "\n",
    "\n",
    "# user input : Ask user to enter the size of password they want to be generated min num 5 chatracter . \n",
    "# then generate a random password that coinsists of 2 alphabets 2 signs and 1 number \n",
    "\n",
    "countChar = int (input(\"Enter the size of password you want min is 5 chars \"))\n",
    "print( \"you want password of size\",countChar,\"we will share shortly\" )\n",
    "userpwdCount = 0 \n",
    "userpassword = [] \n",
    "whileloop =0\n",
    "while userpwdCount < countChar: \n",
    "    whileloop +=  1 \n",
    "    print(whileloop, \"is the while loop count\")\n",
    "    \n",
    "    userpassword.append( random.choice(alpha))\n",
    "    userpassword.append(random.choice(alpha))\n",
    "    userpwdCount = userpwdCount+ 2\n",
    "    userpassword.append(random.choice(num))\n",
    "    userpwdCount= userpwdCount+1 \n",
    "    userpassword.append(random.choice(charp))\n",
    "    userpassword.append(random.choice(charp))\n",
    "    userpwdCount= userpwdCount+2\n",
    "    print(userpwdCount)\n",
    "generatedpassword = \"\"\n",
    "for i in userpassword: \n",
    "    generatedpassword = generatedpassword+i\n",
    "print(generatedpassword)\n"
   ]
  },
  {
   "cell_type": "code",
   "execution_count": null,
   "metadata": {},
   "outputs": [],
   "source": []
  },
  {
   "cell_type": "code",
   "execution_count": null,
   "metadata": {},
   "outputs": [],
   "source": [
    "\n",
    "random choice \n",
    "random shuffle \n",
    "for \n",
    "while \n",
    "print \n",
    "range \n",
    "\n",
    "# optional use user defined functions "
   ]
  }
 ],
 "metadata": {
  "kernelspec": {
   "display_name": "Python 3",
   "language": "python",
   "name": "python3"
  },
  "language_info": {
   "codemirror_mode": {
    "name": "ipython",
    "version": 3
   },
   "file_extension": ".py",
   "mimetype": "text/x-python",
   "name": "python",
   "nbconvert_exporter": "python",
   "pygments_lexer": "ipython3",
   "version": "3.9.6"
  }
 },
 "nbformat": 4,
 "nbformat_minor": 2
}
